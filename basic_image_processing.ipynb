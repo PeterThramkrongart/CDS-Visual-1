{
 "cells": [
  {
   "cell_type": "markdown",
   "metadata": {},
   "source": [
    "# Assignment 1 - Basic image processing\n",
    "\n",
    "### Description\n",
    "\n",
    "Basic scripting with Python\n",
    "\n",
    "Create or find small dataset of images, using an online data source such as Kaggle. At the very least, your dataset should contain no fewer than 10 images.\n",
    "\n",
    "\n",
    "Write a Python script which does the following:\n",
    "\n",
    "    For each image, find the width, height, and number of channels\n",
    "    For each image, split image into four equal-sized quadrants (i.e. top-left, top-right, bottom-left, bottom-right)\n",
    "    Save each of the split images in JPG format\n",
    "    Create and save a file containing the filename, width, height for all of the new images.\n",
    "\n",
    "\n",
    "### General instructions\n",
    "\n",
    "    For this exercise, you can upload either a standalone script OR a Jupyter Notebook\n",
    "    Save your script as basic_image_processing.py OR basic_image_processing.ipynb\n",
    "    If you have external dependencies, you must include a requirements.txt\n",
    "    You can either upload the script here or push to GitHub and include a link - or both!\n",
    "    Your code should be clearly documented in a way that allows others to easily follow the structure of your script.\n",
    "    Similarly, remember to use descriptive variable names! A name like width is more readable than w.\n",
    "    The filenames of the split images should clearly relate to the original image.\n",
    "\n",
    "\n",
    "### Purpose\n",
    "\n",
    "This assignment is designed to test that you have a understanding of:\n",
    "\n",
    "    how to structure, document, and share a Python script;\n",
    "    how to effectively make use of basic functions in cv2;\n",
    "    how to read, write, and process images files."
   ]
  },
  {
   "cell_type": "code",
   "execution_count": 1,
   "metadata": {},
   "outputs": [],
   "source": [
    "import os #for creating paths\n",
    "import cv2 #for handling images\n",
    "import numpy as np #for arrays\n",
    "from pathlib import Path #for creating paths"
   ]
  },
  {
   "cell_type": "code",
   "execution_count": 2,
   "metadata": {},
   "outputs": [],
   "source": [
    "path_to_images = os.path.join(\"..\", \"data\", \"Lego\") #creating path to original images\n",
    "path_to_new_images = os.path.join(\"..\", \"data\", \"Lego\",\"new_images\") #creating path to original images\n",
    "\n",
    "if not os.path.exists(path_to_new_images):\n",
    "    os.makedirs(path_to_new_images)"
   ]
  },
  {
   "cell_type": "code",
   "execution_count": 3,
   "metadata": {
    "scrolled": true
   },
   "outputs": [],
   "source": [
    "for filename in Path(path_to_images).glob(\"*.jpg\"): #for each filename:\n",
    "    image = cv2.imread(str(filename)) #read image\n",
    "    \n",
    "    width, height, channels = image.shape\n",
    "    filename = str(filename).split(\"/\")[3] #save the dimensions\n",
    "    \n",
    "    top_left = image[:width//2,:height//2] #slicing\n",
    "    outfile = os.path.join(path_to_new_images, f\"top_left_{filename}\") #filepath\n",
    "    cv2.imwrite(outfile, top_left) #write file\n",
    "    \n",
    "    top_right = image[width//2:,:height//2] #slicing\n",
    "    outfile = os.path.join(path_to_new_images, f\"top_right_{filename}\")  #filepath\n",
    "    cv2.imwrite(outfile, top_left) #write file\n",
    "    \n",
    "    bottom_left = image[:width//2,height//2:] #slicing\n",
    "    outfile = os.path.join(path_to_new_images, f\"bottom_left_{filename}\") #filepath\n",
    "    cv2.imwrite(outfile, bottom_left) #write file\n",
    "    \n",
    "    bottom_right = image[width//2:,height//2:] #slicing\n",
    "    outfile = os.path.join(path_to_new_images, f\"bottom_right_{filename}\") #filepath\n",
    "    cv2.imwrite(outfile, bottom_right) #write file"
   ]
  },
  {
   "cell_type": "code",
   "execution_count": 4,
   "metadata": {},
   "outputs": [],
   "source": [
    "#creating lists to be populated\n",
    "height_list = []\n",
    "width_list = []\n",
    "channels_list = []\n",
    "filename_list = []\n",
    "\n",
    "for filename in Path(path_to_new_images).glob(\"*.jpg\"): # for each .jpg in new image directory:\n",
    "    image = cv2.imread(str(filename)) #read file\n",
    "    filename = str(filename).split(\"/\")[4] #grab filename\n",
    "    width,height,channels = image.shape #grab dimensions\n",
    "    #add info to lists\n",
    "    width_list.append(width) \n",
    "    height_list.append(height)\n",
    "    channels_list.append(channels)\n",
    "    filename_list.append(filename)\n",
    "    \n",
    "\n",
    "metadata = np.array((filename_list,height_list,width_list,channels_list)) #create array\n",
    "\n",
    "np.savetxt(#save csv\n",
    "    f\"{str(path_to_new_images)}/new_image_metadata.csv\",#filename\n",
    "    np.column_stack(metadata),#transpose array\n",
    "    delimiter=',',#comma separeted\n",
    "    header=\"filename,height,width,channels\", #column names\n",
    "    fmt='%s', #I'm not sure about this... I get an error without. I think It's about the the divided numbers\n",
    "    comments = \"\")#this is to remove the hashtag from the header"
   ]
  },
  {
   "cell_type": "code",
   "execution_count": null,
   "metadata": {},
   "outputs": [],
   "source": []
  }
 ],
 "metadata": {
  "kernelspec": {
   "display_name": "cv101",
   "language": "python",
   "name": "cv101"
  },
  "language_info": {
   "codemirror_mode": {
    "name": "ipython",
    "version": 3
   },
   "file_extension": ".py",
   "mimetype": "text/x-python",
   "name": "python",
   "nbconvert_exporter": "python",
   "pygments_lexer": "ipython3",
   "version": "3.6.9"
  }
 },
 "nbformat": 4,
 "nbformat_minor": 4
}
